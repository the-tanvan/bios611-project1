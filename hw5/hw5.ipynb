{
 "cells": [
  {
   "cell_type": "markdown",
   "metadata": {},
   "source": [
    "Question 5:\n",
    "Use Python/sklearn to perform a TSNE dimensionality reduction (to two\n",
    "dimensions) on the numerical columns from the set above. You'll need\n",
    "lines like this in your Dockerfile:\n",
    "\n",
    "    RUN apt update -y && apt install -y python3-pip\n",
    "    RUN pip3 install jupyter jupyterlab\n",
    "    RUN pip3 install numpy pandas sklearn plotnine matplotlib pandasql bokeh\n",
    "\n",
    "Once you've performed the analysis in Python (feel free to use a\n",
    "Python notebook) write the results to a csv file and load them into\n",
    "R. In R, plot the results.\n",
    "\n",
    "Color each point by the alignment of the associated character. Any\n",
    "insights?\n",
    "\n",
    "See the aliases file in Lecture 16 for how to launch your Jupyter Lab."
   ]
  },
  {
   "cell_type": "code",
   "execution_count": null,
   "metadata": {},
   "outputs": [],
   "source": []
  }
 ],
 "metadata": {
  "kernelspec": {
   "display_name": "Python 3",
   "language": "python",
   "name": "python3"
  },
  "language_info": {
   "codemirror_mode": {
    "name": "ipython",
    "version": 3
   },
   "file_extension": ".py",
   "mimetype": "text/x-python",
   "name": "python",
   "nbconvert_exporter": "python",
   "pygments_lexer": "ipython3",
   "version": "3.8.5"
  }
 },
 "nbformat": 4,
 "nbformat_minor": 4
}
